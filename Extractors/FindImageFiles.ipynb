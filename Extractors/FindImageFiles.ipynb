{
 "cells": [
  {
   "cell_type": "code",
   "execution_count": 36,
   "metadata": {
    "collapsed": false
   },
   "outputs": [
    {
     "name": "stdout",
     "output_type": "stream",
     "text": [
      "{'conceptrecid': '317162', 'created': '2019-07-19T06:31:53.160868+00:00', 'files': [], 'id': 317163, 'links': {'bucket': 'https://sandbox.zenodo.org/api/files/3648f19f-e25e-4205-bf31-68c2559eedba', 'discard': 'https://sandbox.zenodo.org/api/deposit/depositions/317163/actions/discard', 'edit': 'https://sandbox.zenodo.org/api/deposit/depositions/317163/actions/edit', 'files': 'https://sandbox.zenodo.org/api/deposit/depositions/317163/files', 'html': 'https://sandbox.zenodo.org/deposit/317163', 'latest_draft': 'https://sandbox.zenodo.org/api/deposit/depositions/317163', 'latest_draft_html': 'https://sandbox.zenodo.org/deposit/317163', 'publish': 'https://sandbox.zenodo.org/api/deposit/depositions/317163/actions/publish', 'self': 'https://sandbox.zenodo.org/api/deposit/depositions/317163'}, 'metadata': {'prereserve_doi': {'doi': '10.5072/zenodo.317163', 'recid': 317163}}, 'modified': '2019-07-19T06:31:53.160877+00:00', 'owner': 28783, 'record_id': 317163, 'state': 'unsubmitted', 'submitted': False, 'title': ''}\n"
     ]
    }
   ],
   "source": [
    "import os\n",
    "thisdir=\"C:\\\\Users\\\\adit4\\\\Desktop\\\\UC\\\\test\\\\QrespData\\\\a317eb6e5dc0baf51572a53b6334ade6731b6979405b37911b701e10beebecde\"\n",
    "import requests\n",
    "headers = {\"Content-Type\": \"application/json\"}\n",
    "ACCESS_TOKEN = \"YgQHzUqXB4uPZUyAJDKjzmq30LpY1lfssfziZAppotkVPJEtxQpXEuO2XQLk\"\n",
    "response = requests.post('https://sandbox.zenodo.org/api/deposit/depositions',params={'access_token': ACCESS_TOKEN}, json={},headers=headers)\n",
    "print(response.json())\n",
    "deposition_id = response.json()['id']\n",
    "for r, d, f in os.walk(thisdir):\n",
    "    for metadata_file in f:\n",
    "        if metadata_file.lower().endswith((\".jpg\",\".jpeg\",\".png\",\".gif\",\".tiff\",\".pdf\",\".bmp\",\".ico\",\".svg\")):\n",
    "            data = {'filename': str(metadata_file)}\n",
    "            filepath = os.path.join(r,metadata_file)\n",
    "            files = {'file': open(str(filepath), 'rb')}\n",
    "            resp = requests.post('https://sandbox.zenodo.org/api/deposit/depositions/%s/files' % deposition_id,params={'access_token': ACCESS_TOKEN}, data=data,files=files)\n",
    "            resp.json()"
   ]
  },
  {
   "cell_type": "code",
   "execution_count": 38,
   "metadata": {
    "collapsed": false
   },
   "outputs": [
    {
     "data": {
      "text/plain": [
       "200"
      ]
     },
     "execution_count": 38,
     "metadata": {},
     "output_type": "execute_result"
    }
   ],
   "source": [
    "import json\n",
    "\n",
    "r = requests.put('https://sandbox.zenodo.org/api/deposit/depositions/%s' % deposition_id,params={'access_token': ACCESS_TOKEN}, data=json.dumps(data),\n",
    "                 headers=headers)\n",
    "r.status_code"
   ]
  },
  {
   "cell_type": "code",
   "execution_count": 100,
   "metadata": {
    "collapsed": true
   },
   "outputs": [],
   "source": [
    "import shutil\n",
    "import requests\n",
    "import os\n",
    "import json\n",
    "import sys\n",
    "class UploadToZenodo:\n",
    "    \"\"\" Upload Files to Zenodo\n",
    "    \"\"\"\n",
    "    def __init__(self,ACCESS_TOKEN,metadata):\n",
    "        self.headers = {\"Content-Type\": \"application/json\"}\n",
    "        self.params = {'access_token': ACCESS_TOKEN}\n",
    "        self.base_url = \"https://sandbox.zenodo.org\"\n",
    "        self.deposition_id = self.generateDepositionId()\n",
    "        self.acceptedExtentions = (\".jpg\",\".jpeg\",\".png\",\".gif\",\".tiff\",\".pdf\",\".bmp\",\".ico\",\".svg\")\n",
    "        self.metadata = metadata\n",
    "    \n",
    "    def generateDepositionId(self):\n",
    "        \"\"\" Generates Deposition Id needed for identifying paper\n",
    "        \"\"\"\n",
    "        response = requests.post('{base_url}/api/deposit/depositions'.format(base_url=self.base_url),\n",
    "                                 params=self.params, \n",
    "                                 json={},headers=self.headers)\n",
    "        if response.status_code >= 400 :\n",
    "            sys.exit(response.json())\n",
    "        return response.json()['id']\n",
    "    \n",
    "    def uploadImagesToZenodo(self,path):\n",
    "        \"\"\" Extracts Images from path and uploads to zenodo\n",
    "            :param: path Directory or path to directory to upload data from\n",
    "        \"\"\"\n",
    "        for r, d, f in os.walk(path):\n",
    "            for file in f:\n",
    "                if file.lower().endswith(self.acceptedExtentions):\n",
    "                    data = {'filename': str(file)}\n",
    "                    filepath = os.path.join(r,file)\n",
    "                    files = {'file': open(str(filepath), 'rb')}\n",
    "                    resp = requests.post('{base_url}/api/deposit/depositions/{deposition_id}/files'.format(base_url=self.base_url,deposition_id=self.deposition_id),\n",
    "                                         params=self.params, \n",
    "                                         data=data,files=files)\n",
    "                    if resp.status_code >= 400 :\n",
    "                        sys.exit(resp.json())\n",
    "        print(\"Uploaded images to deposition id \",self.deposition_id)\n",
    "    \n",
    "    def uploadZipFileToZenodo(self,path):\n",
    "        \"\"\" Converts folder to a zip file and uploads to zenodo\n",
    "            :param: path Directory or path to directory to upload data from\n",
    "        \"\"\"\n",
    "        filename = os.path.basename(path)\n",
    "        archive_from = os.path.dirname(path)\n",
    "        archive_to = os.path.basename(path.strip(os.sep))\n",
    "        shutil.make_archive(filename, \"zip\", archive_from, archive_to)\n",
    "        data = {'filename': str(filename)+\".zip\"}\n",
    "        files = {'file': open(str(filename)+\".zip\", 'rb')}\n",
    "        resp = requests.post('{base_url}/api/deposit/depositions/{deposition_id}/files'.format(base_url=self.base_url,deposition_id=self.deposition_id),\n",
    "                                         params=self.params, \n",
    "                                         data=data,files=files)\n",
    "        if resp.status_code >= 400 :\n",
    "            sys.exit(resp.json())\n",
    "        print(\"\\n Uploaded directory as a zip file \",self.deposition_id)\n",
    "\n",
    "    def uploadMetadaFileToZenodo(self):\n",
    "        \"\"\" Adds metadata to the deposition\n",
    "        \"\"\"\n",
    "        resp = requests.put('{base_url}/api/deposit/depositions/{deposition_id}'.format(base_url=self.base_url,deposition_id=self.deposition_id),\n",
    "                             params=self.params, \n",
    "                             data=json.dumps(self.metadata),\n",
    "                             headers=self.headers)\n",
    "        if resp.status_code >= 400 :\n",
    "            sys.exit(resp.json())\n",
    "        print(\"\\n Uploaded metadata file\")\n",
    "        \n",
    "    def publishProjectToZenodo(self):\n",
    "        \"\"\" Publishes metadata to zenodo\n",
    "        \"\"\"\n",
    "        resp = requests.post('{base_url}/api/deposit/depositions/{deposition_id}/actions/publish'.format(base_url=self.base_url,deposition_id=self.deposition_id),\n",
    "                             params=self.params,  \n",
    "                            headers=self.headers)\n",
    "        if resp.status_code >= 400 :\n",
    "            sys.exit(resp.json())\n",
    "        return resp.json()"
   ]
  },
  {
   "cell_type": "code",
   "execution_count": 101,
   "metadata": {
    "collapsed": true
   },
   "outputs": [],
   "source": [
    "data = {\n",
    "    'metadata': {\n",
    "        'title': 'My fourth upload',\n",
    "        'upload_type': 'dataset',\n",
    "        'description': 'This is my first upload',\n",
    "        'creators': [{'name': 'Aditya',\n",
    "                      'affiliation': 'Qresp'}]\n",
    "    }\n",
    "}\n",
    "\n",
    "ACCESS_TOKEN = \"YgQHzUqXB4uPZUyAJDKjzmq30LpY1lfssfziZAppotkVPJEtxQpXEuO2XQLk\""
   ]
  },
  {
   "cell_type": "code",
   "execution_count": 102,
   "metadata": {
    "collapsed": false
   },
   "outputs": [],
   "source": [
    "uploadZ = UploadToZenodo(ACCESS_TOKEN,data)\n",
    "    "
   ]
  },
  {
   "cell_type": "code",
   "execution_count": 103,
   "metadata": {
    "collapsed": false
   },
   "outputs": [
    {
     "name": "stdout",
     "output_type": "stream",
     "text": [
      "Uploaded images to deposition id  326415\n"
     ]
    }
   ],
   "source": [
    "uploadZ.uploadImagesToZenodo(\"C:\\\\Users\\\\adit4\\\\Desktop\\\\UC\\\\paper\")"
   ]
  },
  {
   "cell_type": "code",
   "execution_count": 104,
   "metadata": {
    "collapsed": false
   },
   "outputs": [
    {
     "name": "stdout",
     "output_type": "stream",
     "text": [
      "326415\n"
     ]
    }
   ],
   "source": [
    "print(uploadZ.deposition_id)"
   ]
  },
  {
   "cell_type": "code",
   "execution_count": 105,
   "metadata": {
    "collapsed": false
   },
   "outputs": [
    {
     "name": "stdout",
     "output_type": "stream",
     "text": [
      "\n",
      " Uploaded directory as a zip file  326415\n"
     ]
    }
   ],
   "source": [
    "uploadZ.uploadZipFileToZenodo(\"C:\\\\Users\\\\adit4\\\\Desktop\\\\UC\\\\paper\")"
   ]
  },
  {
   "cell_type": "code",
   "execution_count": 106,
   "metadata": {
    "collapsed": false
   },
   "outputs": [
    {
     "name": "stdout",
     "output_type": "stream",
     "text": [
      "\n",
      " Uploaded metadata file\n"
     ]
    }
   ],
   "source": [
    "uploadZ.uploadMetadaFileToZenodo()"
   ]
  },
  {
   "cell_type": "code",
   "execution_count": 107,
   "metadata": {
    "collapsed": false
   },
   "outputs": [
    {
     "name": "stdout",
     "output_type": "stream",
     "text": [
      "{'conceptdoi': '10.5072/zenodo.326414', 'conceptrecid': '326414', 'created': '2019-07-22T22:33:42.880268+00:00', 'doi': '10.5072/zenodo.326415', 'doi_url': 'https://doi.org/10.5072/zenodo.326415', 'files': [{'checksum': 'e7b51943d6edde41333c98552044aca1', 'filename': 'Qresp_1.jpg', 'filesize': 101370, 'id': 'e409582c-ac5c-45a2-8676-2f7bc76c304b', 'links': {'download': 'https://sandbox.zenodo.org/api/files/0065b580-3b68-4cab-9331-7897b3a08114/Qresp_1.jpg', 'self': 'https://sandbox.zenodo.org/api/deposit/depositions/317114/files/e409582c-ac5c-45a2-8676-2f7bc76c304b'}}, {'checksum': 'ce749a943a6103defacddc3b763c3e7e', 'filename': 'Qresp_1.png', 'filesize': 128328, 'id': '14aee0e2-c8fc-42cd-ab0f-f37b96b3ed85', 'links': {'download': 'https://sandbox.zenodo.org/api/files/0065b580-3b68-4cab-9331-7897b3a08114/Qresp_1.png', 'self': 'https://sandbox.zenodo.org/api/deposit/depositions/317114/files/14aee0e2-c8fc-42cd-ab0f-f37b96b3ed85'}}, {'checksum': '165d4e78012de2476374cdfe9acfd737', 'filename': 'Qresp_2.jpg', 'filesize': 167173, 'id': '27281b82-67b7-4967-992b-221c92523cc5', 'links': {'download': 'https://sandbox.zenodo.org/api/files/0065b580-3b68-4cab-9331-7897b3a08114/Qresp_2.jpg', 'self': 'https://sandbox.zenodo.org/api/deposit/depositions/317114/files/27281b82-67b7-4967-992b-221c92523cc5'}}, {'checksum': 'b448f0e8c747e1ffb662fb75571f113f', 'filename': 'Qresp_2.png', 'filesize': 192521, 'id': '8add68e2-abc6-4071-ac74-b424f9646282', 'links': {'download': 'https://sandbox.zenodo.org/api/files/0065b580-3b68-4cab-9331-7897b3a08114/Qresp_2.png', 'self': 'https://sandbox.zenodo.org/api/deposit/depositions/317114/files/8add68e2-abc6-4071-ac74-b424f9646282'}}, {'checksum': 'fea12e0330f8ecbf0080784bdfb56e5b', 'filename': 'Qresp_3.jpg', 'filesize': 148735, 'id': '2af1a9c7-512f-4c8c-b0f0-07e0ea8d3cc8', 'links': {'download': 'https://sandbox.zenodo.org/api/files/0065b580-3b68-4cab-9331-7897b3a08114/Qresp_3.jpg', 'self': 'https://sandbox.zenodo.org/api/deposit/depositions/317114/files/2af1a9c7-512f-4c8c-b0f0-07e0ea8d3cc8'}}, {'checksum': 'a5e5207b75d7adb4b95a4a0292881279', 'filename': 'Qresp_3.png', 'filesize': 262031, 'id': '2f0c8a97-c3be-4ecd-b9b8-b82d3b0da2fd', 'links': {'download': 'https://sandbox.zenodo.org/api/files/0065b580-3b68-4cab-9331-7897b3a08114/Qresp_3.png', 'self': 'https://sandbox.zenodo.org/api/deposit/depositions/317114/files/2f0c8a97-c3be-4ecd-b9b8-b82d3b0da2fd'}}, {'checksum': '1859d4c15999a576668b26b7960a772a', 'filename': 'Qresp_4.jpg', 'filesize': 214138, 'id': '7e9c4291-f1a9-4fb1-aebe-236c6c3743f5', 'links': {'download': 'https://sandbox.zenodo.org/api/files/0065b580-3b68-4cab-9331-7897b3a08114/Qresp_4.jpg', 'self': 'https://sandbox.zenodo.org/api/deposit/depositions/317114/files/7e9c4291-f1a9-4fb1-aebe-236c6c3743f5'}}, {'checksum': 'eff82e30f8cbd4401c7df0b526c007de', 'filename': 'Qresp_4.png', 'filesize': 200931, 'id': '1921ad70-e4c3-4b9f-b311-ba277590d1b5', 'links': {'download': 'https://sandbox.zenodo.org/api/files/0065b580-3b68-4cab-9331-7897b3a08114/Qresp_4.png', 'self': 'https://sandbox.zenodo.org/api/deposit/depositions/317114/files/1921ad70-e4c3-4b9f-b311-ba277590d1b5'}}, {'checksum': 'eb532be1a34a5366be39ce62c3befce8', 'filename': 'Slide1.JPG', 'filesize': 56556, 'id': 'f9fd8bdc-1247-402f-9597-a18277e70dd0', 'links': {'download': 'https://sandbox.zenodo.org/api/files/0065b580-3b68-4cab-9331-7897b3a08114/Slide1.JPG', 'self': 'https://sandbox.zenodo.org/api/deposit/depositions/317114/files/f9fd8bdc-1247-402f-9597-a18277e70dd0'}}, {'checksum': '4758871b88e61b7ae1b33802a6dd1252', 'filename': 'Slide10.JPG', 'filesize': 83618, 'id': 'e15e510b-ef44-4f52-82fe-77f06d177bd6', 'links': {'download': 'https://sandbox.zenodo.org/api/files/0065b580-3b68-4cab-9331-7897b3a08114/Slide10.JPG', 'self': 'https://sandbox.zenodo.org/api/deposit/depositions/317114/files/e15e510b-ef44-4f52-82fe-77f06d177bd6'}}, {'checksum': '2b04a21ed24157c50407cb9165f3bb1b', 'filename': 'Slide2.JPG', 'filesize': 99340, 'id': '0c00daa0-5348-4b89-8283-aa1176d76d1c', 'links': {'download': 'https://sandbox.zenodo.org/api/files/0065b580-3b68-4cab-9331-7897b3a08114/Slide2.JPG', 'self': 'https://sandbox.zenodo.org/api/deposit/depositions/317114/files/0c00daa0-5348-4b89-8283-aa1176d76d1c'}}, {'checksum': '7df558e1162c96bbbfaf36ce3b7d2373', 'filename': 'Slide3.JPG', 'filesize': 64675, 'id': '32bf60b0-1ce3-445a-9a07-0cbca0917282', 'links': {'download': 'https://sandbox.zenodo.org/api/files/0065b580-3b68-4cab-9331-7897b3a08114/Slide3.JPG', 'self': 'https://sandbox.zenodo.org/api/deposit/depositions/317114/files/32bf60b0-1ce3-445a-9a07-0cbca0917282'}}, {'checksum': 'f007d2474f2ee8522de2d8adf1071362', 'filename': 'Slide4.JPG', 'filesize': 76618, 'id': 'b90a2300-94e3-4cd1-8111-441dbec2d746', 'links': {'download': 'https://sandbox.zenodo.org/api/files/0065b580-3b68-4cab-9331-7897b3a08114/Slide4.JPG', 'self': 'https://sandbox.zenodo.org/api/deposit/depositions/317114/files/b90a2300-94e3-4cd1-8111-441dbec2d746'}}, {'checksum': '4f0f3a58465edc8d3825c732b0552cee', 'filename': 'Slide5.JPG', 'filesize': 73450, 'id': '3d5e85d2-4929-467e-9334-4526b0e7fa2d', 'links': {'download': 'https://sandbox.zenodo.org/api/files/0065b580-3b68-4cab-9331-7897b3a08114/Slide5.JPG', 'self': 'https://sandbox.zenodo.org/api/deposit/depositions/317114/files/3d5e85d2-4929-467e-9334-4526b0e7fa2d'}}, {'checksum': '9c8262b8dffa516d656a848d95995a09', 'filename': 'Slide6.JPG', 'filesize': 61095, 'id': '9bddb033-a37c-4632-894f-fda58b2fb7b0', 'links': {'download': 'https://sandbox.zenodo.org/api/files/0065b580-3b68-4cab-9331-7897b3a08114/Slide6.JPG', 'self': 'https://sandbox.zenodo.org/api/deposit/depositions/317114/files/9bddb033-a37c-4632-894f-fda58b2fb7b0'}}, {'checksum': 'bba1540dd573f21c38fd3a24be529122', 'filename': 'Slide7.JPG', 'filesize': 15027, 'id': '46da1f01-e118-496d-8b00-bb107ebe343e', 'links': {'download': 'https://sandbox.zenodo.org/api/files/0065b580-3b68-4cab-9331-7897b3a08114/Slide7.JPG', 'self': 'https://sandbox.zenodo.org/api/deposit/depositions/317114/files/46da1f01-e118-496d-8b00-bb107ebe343e'}}, {'checksum': '011971b9aba14977786a2f94649505d2', 'filename': 'Slide8.JPG', 'filesize': 107372, 'id': '5455dc1b-f691-4336-a23f-9da41caf0c76', 'links': {'download': 'https://sandbox.zenodo.org/api/files/0065b580-3b68-4cab-9331-7897b3a08114/Slide8.JPG', 'self': 'https://sandbox.zenodo.org/api/deposit/depositions/317114/files/5455dc1b-f691-4336-a23f-9da41caf0c76'}}, {'checksum': '425d329cd522b1efa42340bd610193fd', 'filename': 'Slide9.JPG', 'filesize': 105902, 'id': 'df2f0bd9-e0a2-485f-b9e1-7a49f11a0767', 'links': {'download': 'https://sandbox.zenodo.org/api/files/0065b580-3b68-4cab-9331-7897b3a08114/Slide9.JPG', 'self': 'https://sandbox.zenodo.org/api/deposit/depositions/317114/files/df2f0bd9-e0a2-485f-b9e1-7a49f11a0767'}}, {'checksum': 'ed674c84e04031ef60ac3fdcdce4cc3a', 'filename': 'paper.zip', 'filesize': 1810400, 'id': '2d36f64a-1beb-4255-89d5-369771013e9b', 'links': {'download': 'https://sandbox.zenodo.org/api/files/0065b580-3b68-4cab-9331-7897b3a08114/paper.zip', 'self': 'https://sandbox.zenodo.org/api/deposit/depositions/317114/files/2d36f64a-1beb-4255-89d5-369771013e9b'}}], 'id': 326415, 'links': {'badge': 'https://sandbox.zenodo.org/badge/doi/10.5072/zenodo.326415.svg', 'bucket': 'https://sandbox.zenodo.org/api/files/0065b580-3b68-4cab-9331-7897b3a08114', 'conceptbadge': 'https://sandbox.zenodo.org/badge/doi/10.5072/zenodo.326414.svg', 'conceptdoi': 'https://doi.org/10.5072/zenodo.326414', 'doi': 'https://doi.org/10.5072/zenodo.326415', 'latest': 'https://sandbox.zenodo.org/api/records/326415', 'latest_html': 'https://sandbox.zenodo.org/record/326415', 'record': 'https://sandbox.zenodo.org/api/records/326415', 'record_html': 'https://sandbox.zenodo.org/record/326415', 'thumb250': 'https://sandbox.zenodo.org/api/iiif/v2/05609bb6-f49e-4a73-b6bf-63e5f6d8f31b:fda6c5a0-c28d-4f44-b236-caecbc72c0c1:Qresp_1.jpg/full/250,/0/default.jpg'}, 'metadata': {'access_right': 'open', 'communities': [{'identifier': 'zenodo'}], 'creators': [{'affiliation': 'Qresp', 'name': 'Aditya'}], 'description': 'This is my first upload', 'doi': '10.5072/zenodo.326415', 'license': 'CC0-1.0', 'prereserve_doi': {'doi': '10.5072/zenodo.326415', 'recid': 326415}, 'publication_date': '2019-07-22', 'title': 'My fourth upload', 'upload_type': 'dataset'}, 'modified': '2019-07-22T22:34:17.055671+00:00', 'owner': 28783, 'record_id': 326415, 'state': 'done', 'submitted': True, 'title': 'My fourth upload'}\n"
     ]
    }
   ],
   "source": [
    "record = uploadZ.publishProjectToZenodo()\n",
    "print(record)"
   ]
  },
  {
   "cell_type": "code",
   "execution_count": 108,
   "metadata": {
    "collapsed": false
   },
   "outputs": [
    {
     "data": {
      "text/plain": [
       "'https://sandbox.zenodo.org/api/deposit/depositions/326390'"
      ]
     },
     "execution_count": 108,
     "metadata": {},
     "output_type": "execute_result"
    }
   ],
   "source": [
    "'{base_url}/api/deposit/depositions/{deposition_id}'.format(base_url=base_url,deposition_id=deposition_id)"
   ]
  },
  {
   "cell_type": "code",
   "execution_count": 109,
   "metadata": {
    "collapsed": false
   },
   "outputs": [
    {
     "name": "stdout",
     "output_type": "stream",
     "text": [
      "Pretty printing has been turned ON\n"
     ]
    }
   ],
   "source": [
    "%pprint(record)"
   ]
  },
  {
   "cell_type": "code",
   "execution_count": 110,
   "metadata": {
    "collapsed": false
   },
   "outputs": [
    {
     "data": {
      "text/plain": [
       "'https://doi.org/10.5072/zenodo.326415'"
      ]
     },
     "execution_count": 110,
     "metadata": {},
     "output_type": "execute_result"
    }
   ],
   "source": [
    "record['doi_url']"
   ]
  },
  {
   "cell_type": "code",
   "execution_count": 111,
   "metadata": {
    "collapsed": false
   },
   "outputs": [
    {
     "data": {
      "text/plain": [
       "'https://sandbox.zenodo.org/record/326415'"
      ]
     },
     "execution_count": 111,
     "metadata": {},
     "output_type": "execute_result"
    }
   ],
   "source": [
    "record['links']['latest_html']"
   ]
  },
  {
   "cell_type": "code",
   "execution_count": 58,
   "metadata": {
    "collapsed": false
   },
   "outputs": [
    {
     "data": {
      "text/plain": [
       "'https://doi.org/10.5072/zenodo.326407'"
      ]
     },
     "execution_count": 58,
     "metadata": {},
     "output_type": "execute_result"
    }
   ],
   "source": [
    "record['doi_url']"
   ]
  },
  {
   "cell_type": "code",
   "execution_count": 85,
   "metadata": {
    "collapsed": false
   },
   "outputs": [
    {
     "data": {
      "text/plain": [
       "'C:\\\\Users\\\\adit4\\\\Desktop\\\\UC'"
      ]
     },
     "execution_count": 85,
     "metadata": {},
     "output_type": "execute_result"
    }
   ],
   "source": [
    "os.path.dirname(\"C:\\\\Users\\\\adit4\\\\Desktop\\\\UC\\\\paper\")"
   ]
  },
  {
   "cell_type": "code",
   "execution_count": 92,
   "metadata": {
    "collapsed": true
   },
   "outputs": [],
   "source": [
    "import os, shutil\n",
    "def make_archive(source):\n",
    "        base = os.path.basename(source)\n",
    "        archive_from = os.path.dirname(source)\n",
    "        archive_to = os.path.basename(source.strip(os.sep))\n",
    "        print(source, archive_from, archive_to)\n",
    "        shutil.make_archive(base, \"zip\", archive_from, archive_to)\n",
    "        #shutil.move('%s.%s'%(name,format), destination)"
   ]
  },
  {
   "cell_type": "code",
   "execution_count": 93,
   "metadata": {
    "collapsed": false
   },
   "outputs": [
    {
     "name": "stdout",
     "output_type": "stream",
     "text": [
      "C:\\Users\\adit4\\Desktop\\UC\\paper C:\\Users\\adit4\\Desktop\\UC paper\n"
     ]
    }
   ],
   "source": [
    "make_archive(\"C:\\\\Users\\\\adit4\\\\Desktop\\\\UC\\\\paper\")"
   ]
  },
  {
   "cell_type": "code",
   "execution_count": 17,
   "metadata": {
    "collapsed": false
   },
   "outputs": [
    {
     "ename": "FileNotFoundError",
     "evalue": "[WinError 2] The system cannot find the file specified: 'Qresp_1.jpg' -> 'paper__Qresp_1.jpg'",
     "output_type": "error",
     "traceback": [
      "\u001b[1;31m---------------------------------------------------------------------------\u001b[0m",
      "\u001b[1;31mFileNotFoundError\u001b[0m                         Traceback (most recent call last)",
      "\u001b[1;32m<ipython-input-17-d674d77fa63a>\u001b[0m in \u001b[0;36m<module>\u001b[1;34m()\u001b[0m\n\u001b[0;32m      3\u001b[0m     \u001b[1;32mfor\u001b[0m \u001b[0mfile\u001b[0m \u001b[1;32min\u001b[0m \u001b[0mf\u001b[0m\u001b[1;33m:\u001b[0m\u001b[1;33m\u001b[0m\u001b[0m\n\u001b[0;32m      4\u001b[0m         \u001b[1;32mif\u001b[0m \u001b[0mfile\u001b[0m\u001b[1;33m.\u001b[0m\u001b[0mlower\u001b[0m\u001b[1;33m(\u001b[0m\u001b[1;33m)\u001b[0m\u001b[1;33m.\u001b[0m\u001b[0mendswith\u001b[0m\u001b[1;33m(\u001b[0m\u001b[1;33m(\u001b[0m\u001b[1;34m\".jpg\"\u001b[0m\u001b[1;33m,\u001b[0m\u001b[1;34m\".jpeg\"\u001b[0m\u001b[1;33m,\u001b[0m\u001b[1;34m\".png\"\u001b[0m\u001b[1;33m,\u001b[0m\u001b[1;34m\".gif\"\u001b[0m\u001b[1;33m,\u001b[0m\u001b[1;34m\".tiff\"\u001b[0m\u001b[1;33m,\u001b[0m\u001b[1;34m\".pdf\"\u001b[0m\u001b[1;33m,\u001b[0m\u001b[1;34m\".bmp\"\u001b[0m\u001b[1;33m,\u001b[0m\u001b[1;34m\".ico\"\u001b[0m\u001b[1;33m,\u001b[0m\u001b[1;34m\".svg\"\u001b[0m\u001b[1;33m)\u001b[0m\u001b[1;33m)\u001b[0m\u001b[1;33m:\u001b[0m\u001b[1;33m\u001b[0m\u001b[0m\n\u001b[1;32m----> 5\u001b[1;33m             \u001b[0mos\u001b[0m\u001b[1;33m.\u001b[0m\u001b[0mrename\u001b[0m\u001b[1;33m(\u001b[0m\u001b[0mfile\u001b[0m\u001b[1;33m,\u001b[0m\u001b[0mos\u001b[0m\u001b[1;33m.\u001b[0m\u001b[0mpath\u001b[0m\u001b[1;33m.\u001b[0m\u001b[0msplit\u001b[0m\u001b[1;33m(\u001b[0m\u001b[0mr\u001b[0m\u001b[1;33m)\u001b[0m\u001b[1;33m[\u001b[0m\u001b[1;36m1\u001b[0m\u001b[1;33m]\u001b[0m\u001b[1;33m+\u001b[0m\u001b[1;34m\"__\"\u001b[0m\u001b[1;33m+\u001b[0m\u001b[0mfile\u001b[0m\u001b[1;33m)\u001b[0m\u001b[1;33m\u001b[0m\u001b[0m\n\u001b[0m\u001b[0;32m      6\u001b[0m             \u001b[1;31m#print(pname)\u001b[0m\u001b[1;33m\u001b[0m\u001b[1;33m\u001b[0m\u001b[0m\n\u001b[0;32m      7\u001b[0m             \u001b[0mfilepath\u001b[0m \u001b[1;33m=\u001b[0m \u001b[0mos\u001b[0m\u001b[1;33m.\u001b[0m\u001b[0mpath\u001b[0m\u001b[1;33m.\u001b[0m\u001b[0mjoin\u001b[0m\u001b[1;33m(\u001b[0m\u001b[0mr\u001b[0m\u001b[1;33m,\u001b[0m\u001b[0mfile\u001b[0m\u001b[1;33m)\u001b[0m\u001b[1;33m\u001b[0m\u001b[0m\n",
      "\u001b[1;31mFileNotFoundError\u001b[0m: [WinError 2] The system cannot find the file specified: 'Qresp_1.jpg' -> 'paper__Qresp_1.jpg'"
     ]
    }
   ],
   "source": [
    "import os\n",
    "for r, d, f in os.walk(\"C:\\\\Users\\\\adit4\\\\Desktop\\\\UC\\\\paper\"):\n",
    "    for file in f:\n",
    "        if file.lower().endswith((\".jpg\",\".jpeg\",\".png\",\".gif\",\".tiff\",\".pdf\",\".bmp\",\".ico\",\".svg\")):\n",
    "            os.rename(file,os.path.split(r)[1]+\"__\"+file)\n",
    "            #print(pname)\n",
    "            filepath = os.path.join(r,file)\n",
    "            data = {'filename': os.path.split(r)[1]+\"\\\\\"+str(file)}\n",
    "            #files = {'file': open(str(filepath), 'rb')}\n",
    "            print(filepath,\"\\n >\",r,\"\\n >\",d,\"\\n >\",file,\"\\n >\",data)"
   ]
  },
  {
   "cell_type": "code",
   "execution_count": null,
   "metadata": {
    "collapsed": true
   },
   "outputs": [],
   "source": []
  }
 ],
 "metadata": {
  "kernelspec": {
   "display_name": "Python 3",
   "language": "python",
   "name": "python3"
  },
  "language_info": {
   "codemirror_mode": {
    "name": "ipython",
    "version": 3
   },
   "file_extension": ".py",
   "mimetype": "text/x-python",
   "name": "python",
   "nbconvert_exporter": "python",
   "pygments_lexer": "ipython3",
   "version": "3.6.0"
  }
 },
 "nbformat": 4,
 "nbformat_minor": 2
}
