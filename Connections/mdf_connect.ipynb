{
 "cells": [
  {
   "cell_type": "code",
   "execution_count": 7,
   "metadata": {
    "collapsed": true
   },
   "outputs": [],
   "source": [
    "from mdf_connect_client import MDFConnectClient\n"
   ]
  },
  {
   "cell_type": "code",
   "execution_count": 14,
   "metadata": {
    "collapsed": false
   },
   "outputs": [],
   "source": [
    "mdfcc = MDFConnectClient(test=True)"
   ]
  },
  {
   "cell_type": "code",
   "execution_count": 15,
   "metadata": {
    "collapsed": true
   },
   "outputs": [],
   "source": [
    "# Extra affiliations examples\n",
    "# Assume we have three authors: Alice, Bob, and Cathy\n",
    "authors = [\"John Doe\"]\n",
    "\n",
    "# If all authors are from NIST:\n",
    "affiliations = \"UC\"\n",
    "# Equivalent to [\"NIST\", \"NIST\", \"NIST\"]\n"
   ]
  },
  {
   "cell_type": "code",
   "execution_count": 16,
   "metadata": {
    "collapsed": false
   },
   "outputs": [
    {
     "data": {
      "text/plain": [
       "{'titles': [{'title': 'Example of Dataset Submission'}],\n",
       " 'creators': [{'creatorName': 'Doe, John',\n",
       "   'familyName': 'Doe',\n",
       "   'givenName': 'John',\n",
       "   'affiliations': ['UC']}],\n",
       " 'publisher': 'Materials Data Facility',\n",
       " 'publicationYear': '2019',\n",
       " 'resourceType': {'resourceTypeGeneral': 'Dataset', 'resourceType': 'Dataset'},\n",
       " 'descriptions': [{'description': 'This is an example submission.',\n",
       "   'descriptionType': 'Other'}]}"
      ]
     },
     "execution_count": 16,
     "metadata": {},
     "output_type": "execute_result"
    }
   ],
   "source": [
    "mdfcc.create_dc_block(title=\"Example of Dataset Submission\",\n",
    "                      authors=authors,\n",
    "                      affiliations=affiliations,\n",
    "                      description=\"This is an example submission.\")\n",
    "mdfcc.dc"
   ]
  },
  {
   "cell_type": "code",
   "execution_count": 62,
   "metadata": {
    "collapsed": false
   },
   "outputs": [],
   "source": [
    "mdfcc.add_data_source(\"https://drive.google.com/file/d/1KIR2Ds32dLV4anDIruhWyWLlPjTRadeC/view?usp=sharing\")"
   ]
  },
  {
   "cell_type": "code",
   "execution_count": 59,
   "metadata": {
    "collapsed": false
   },
   "outputs": [],
   "source": [
    "mdfcc.clear_data_sources()\n"
   ]
  },
  {
   "cell_type": "code",
   "execution_count": 63,
   "metadata": {
    "collapsed": false
   },
   "outputs": [
    {
     "data": {
      "text/plain": [
       "{'dc': {'titles': [{'title': 'Example of Dataset Submission'}],\n",
       "  'creators': [{'creatorName': 'Doe, John',\n",
       "    'familyName': 'Doe',\n",
       "    'givenName': 'John',\n",
       "    'affiliations': ['UC']}],\n",
       "  'publisher': 'Materials Data Facility',\n",
       "  'publicationYear': '2019',\n",
       "  'resourceType': {'resourceTypeGeneral': 'Dataset',\n",
       "   'resourceType': 'Dataset'},\n",
       "  'descriptions': [{'description': 'This is an example submission.',\n",
       "    'descriptionType': 'Other'}]},\n",
       " 'data_sources': ['https://drive.google.com/file/d/1KIR2Ds32dLV4anDIruhWyWLlPjTRadeC/view?usp=sharing'],\n",
       " 'test': True,\n",
       " 'update': False}"
      ]
     },
     "execution_count": 63,
     "metadata": {},
     "output_type": "execute_result"
    }
   ],
   "source": [
    "mdfcc.get_submission()\n"
   ]
  },
  {
   "cell_type": "code",
   "execution_count": 64,
   "metadata": {
    "collapsed": false
   },
   "outputs": [
    {
     "data": {
      "text/plain": [
       "{'source_id': '_test_doe_example_submission_v1.1',\n",
       " 'success': True,\n",
       " 'error': None,\n",
       " 'status_code': 202}"
      ]
     },
     "execution_count": 64,
     "metadata": {},
     "output_type": "execute_result"
    }
   ],
   "source": [
    "mdfcc.submit_dataset()\n"
   ]
  },
  {
   "cell_type": "code",
   "execution_count": 67,
   "metadata": {
    "collapsed": false
   },
   "outputs": [
    {
     "name": "stdout",
     "output_type": "stream",
     "text": [
      "\n",
      "Status of TEST submission _test_doe_example_submission_v1.1 (Example of Dataset Submission)\n",
      "Submitted by Aditya Tanikanti at 2019-08-06T17:26:53.511109Z\n",
      "\n",
      "Submission initialization was successful.\n",
      "Connect data download was successful: 1 files will be converted (0 archives extracted).\n",
      "Primary data transfer was successful.\n",
      "Data conversion was unsuccessful: No records were parsed out of 1 groups.\n",
      "Dataset curation was not requested or required.\n",
      "MDF Search ingestion was successful.\n",
      "Data transfer to secondary destinations was not requested or required.\n",
      "MDF Publish publication was not requested or required.\n",
      "Citrine upload was not requested or required.\n",
      "Materials Resource Registration was not requested or required.\n",
      "Post-processing cleanup was successful.\n",
      "\n",
      "This submission is inactive.\n"
     ]
    }
   ],
   "source": [
    "mdfcc.check_status()\n"
   ]
  },
  {
   "cell_type": "code",
   "execution_count": null,
   "metadata": {
    "collapsed": true
   },
   "outputs": [],
   "source": []
  }
 ],
 "metadata": {
  "kernelspec": {
   "display_name": "Python 3",
   "language": "python",
   "name": "python3"
  },
  "language_info": {
   "codemirror_mode": {
    "name": "ipython",
    "version": 3
   },
   "file_extension": ".py",
   "mimetype": "text/x-python",
   "name": "python",
   "nbconvert_exporter": "python",
   "pygments_lexer": "ipython3",
   "version": "3.6.0"
  }
 },
 "nbformat": 4,
 "nbformat_minor": 2
}
